{
 "cells": [
  {
   "cell_type": "markdown",
   "id": "21390a32-ba99-43e7-8d94-3f3cd5f2fc6c",
   "metadata": {},
   "source": [
    "# FOR LOOP"
   ]
  },
  {
   "cell_type": "code",
   "execution_count": 1,
   "id": "3943e54f-e22f-4a76-83cb-abb33f58892a",
   "metadata": {},
   "outputs": [
    {
     "name": "stdout",
     "output_type": "stream",
     "text": [
      "1\n",
      "2\n",
      "3\n",
      "4\n",
      "5\n",
      "6\n",
      "7\n",
      "8\n",
      "9\n",
      "10\n"
     ]
    }
   ],
   "source": [
    "#1.numbers from 1 to 10\n",
    "for i in range(1,11):\n",
    "    print(i)"
   ]
  },
  {
   "cell_type": "code",
   "execution_count": 4,
   "id": "075ba36e-0811-4459-b167-684b9373fe4b",
   "metadata": {},
   "outputs": [
    {
     "name": "stdout",
     "output_type": "stream",
     "text": [
      "pen\n",
      "pencil\n",
      "scale\n",
      "1\n",
      "2\n",
      "3\n",
      "4\n",
      "5\n"
     ]
    }
   ],
   "source": [
    "#2.for loop vs while loop\n",
    "#FOR LOOP :loop is iterable if number of iteration is known.\n",
    "item=['pen','pencil','scale']\n",
    "for i in item:\n",
    "    print (i)\n",
    "    \n",
    "    \n",
    "    \n",
    "#WHILE LOOP:can use if nuber of iteration is dont know.\n",
    "count=1\n",
    "while count<=5:\n",
    "    print(count)\n",
    "    count+=1"
   ]
  },
  {
   "cell_type": "code",
   "execution_count": 11,
   "id": "563b9312-728c-4b63-b4b1-4c540f67fa6e",
   "metadata": {},
   "outputs": [
    {
     "name": "stdout",
     "output_type": "stream",
     "text": [
      "0\n",
      "1\n",
      "3\n",
      "6\n",
      "10\n",
      "15\n",
      "21\n",
      "28\n",
      "36\n",
      "45\n",
      "55\n",
      "66\n",
      "78\n",
      "91\n",
      "105\n",
      "120\n",
      "136\n",
      "153\n",
      "171\n",
      "190\n",
      "210\n",
      "231\n",
      "253\n",
      "276\n",
      "300\n",
      "325\n",
      "351\n",
      "378\n",
      "406\n",
      "435\n",
      "465\n",
      "496\n",
      "528\n",
      "561\n",
      "595\n",
      "630\n",
      "666\n",
      "703\n",
      "741\n",
      "780\n",
      "820\n",
      "861\n",
      "903\n",
      "946\n",
      "990\n",
      "1035\n",
      "1081\n",
      "1128\n",
      "1176\n",
      "1225\n",
      "1275\n",
      "1326\n",
      "1378\n",
      "1431\n",
      "1485\n",
      "1540\n",
      "1596\n",
      "1653\n",
      "1711\n",
      "1770\n",
      "1830\n",
      "1891\n",
      "1953\n",
      "2016\n",
      "2080\n",
      "2145\n",
      "2211\n",
      "2278\n",
      "2346\n",
      "2415\n",
      "2485\n",
      "2556\n",
      "2628\n",
      "2701\n",
      "2775\n",
      "2850\n",
      "2926\n",
      "3003\n",
      "3081\n",
      "3160\n",
      "3240\n",
      "3321\n",
      "3403\n",
      "3486\n",
      "3570\n",
      "3655\n",
      "3741\n",
      "3828\n",
      "3916\n",
      "4005\n",
      "4095\n",
      "4186\n",
      "4278\n",
      "4371\n",
      "4465\n",
      "4560\n",
      "4656\n",
      "4753\n",
      "4851\n",
      "4950\n",
      "5050\n"
     ]
    }
   ],
   "source": [
    "c=0\n",
    "for i in range(0,101):\n",
    "   c+=i\n",
    "   print(c)"
   ]
  },
  {
   "cell_type": "code",
   "execution_count": 3,
   "id": "531e848b-2139-4244-b4aa-39542a0ccc4f",
   "metadata": {},
   "outputs": [
    {
     "name": "stdout",
     "output_type": "stream",
     "text": [
      "1\n",
      "2\n",
      "3\n",
      "4\n",
      "5\n"
     ]
    }
   ],
   "source": [
    "#4.iterate through a list\n",
    "l=[1,2,3,4,5]\n",
    "for i in l:\n",
    "    print(i)"
   ]
  },
  {
   "cell_type": "code",
   "execution_count": 6,
   "id": "b8988b16-3879-4af1-8b6f-a8fda2d684db",
   "metadata": {},
   "outputs": [
    {
     "name": "stdout",
     "output_type": "stream",
     "text": [
      "[11, 12, 4, 3]\n",
      "product: \n",
      "1584\n"
     ]
    }
   ],
   "source": [
    "#4.product of all elements\n",
    "#multiply all numbers in list\n",
    "\n",
    "#function\n",
    "def mul_list(list) :\n",
    "     \n",
    "    # Multiply elements one by one\n",
    "    product = 1\n",
    "    for i in list:\n",
    "         product = product * i\n",
    "    return product\n",
    "     \n",
    "\n",
    "list1 = [11, 12, 4, 3]\n",
    "print(list1)\n",
    "print(\"product: \") \n",
    "print(mul_list(list1))\n"
   ]
  },
  {
   "cell_type": "code",
   "execution_count": 8,
   "id": "d4403456-46db-4772-bb74-e0934d98b32e",
   "metadata": {},
   "outputs": [
    {
     "name": "stdout",
     "output_type": "stream",
     "text": [
      "2\n",
      "4\n",
      "6\n",
      "8\n",
      "10\n",
      "12\n",
      "14\n",
      "16\n",
      "18\n",
      "20\n"
     ]
    }
   ],
   "source": [
    "#6.even number\n",
    "for i in range (1,21):\n",
    "    if i%2==0:\n",
    "        print (i)"
   ]
  },
  {
   "cell_type": "code",
   "execution_count": 9,
   "id": "7ab005ad-0680-4ded-bd3d-b38b60c46071",
   "metadata": {},
   "outputs": [
    {
     "name": "stdout",
     "output_type": "stream",
     "text": [
      "Factorial of 5 is 120\n"
     ]
    }
   ],
   "source": [
    "#7.factorial\n",
    "# Python 3 program to find\n",
    "# factorial of given number\n",
    "def factorial(n):\n",
    "     \n",
    "    # single line to find factorial\n",
    "    return 1 if (n==1 or n==0) else n * factorial(n - 1)\n",
    " \n",
    "# Driver Code\n",
    "num = 5\n",
    "print(\"Factorial of\",num,\"is\",factorial(num))"
   ]
  },
  {
   "cell_type": "code",
   "execution_count": 6,
   "id": "a0cec7c3-9319-42e5-aeea-e88afe54933b",
   "metadata": {},
   "outputs": [
    {
     "name": "stdout",
     "output_type": "stream",
     "text": [
      "b e   b o l d "
     ]
    }
   ],
   "source": [
    "#8.character of string\n",
    "string_name = \"be bold\"\n",
    " \n",
    "# Iterate over the string\n",
    "for element in string_name:\n",
    "    print(element, end=' ')\n"
   ]
  },
  {
   "cell_type": "code",
   "execution_count": 11,
   "id": "1d091a32-659d-489e-8e88-7454d89bd950",
   "metadata": {},
   "outputs": [
    {
     "name": "stdout",
     "output_type": "stream",
     "text": [
      "999\n"
     ]
    }
   ],
   "source": [
    "#9.largest number\n",
    "a = [1,2,3,4,6,7,99,88,999]\n",
    "max_num = 0\n",
    "for i in a:\n",
    "    if i > max_num:\n",
    "        max_num = i\n",
    "print(max_num)"
   ]
  },
  {
   "cell_type": "code",
   "execution_count": 12,
   "id": "7de3d870-3fa4-4409-b0ac-924dfbaa2ab7",
   "metadata": {},
   "outputs": [
    {
     "name": "stdin",
     "output_type": "stream",
     "text": [
      "How many terms?  4\n"
     ]
    },
    {
     "name": "stdout",
     "output_type": "stream",
     "text": [
      "Fibonacci sequence:\n",
      "0\n",
      "1\n",
      "1\n",
      "2\n"
     ]
    }
   ],
   "source": [
    "#10.fibonacci\n",
    "# Program to display the Fibonacci sequence up to n-th term\n",
    "\n",
    "nterms = int(input(\"How many terms? \"))\n",
    "\n",
    "# first two terms\n",
    "n1, n2 = 0, 1\n",
    "count = 0\n",
    "\n",
    "# check if the number of terms is valid\n",
    "if nterms <= 0:\n",
    "   print(\"Please enter a positive integer\")\n",
    "# if there is only one term, return n1\n",
    "elif nterms == 1:\n",
    "   print(\"Fibonacci sequence upto\",nterms,\":\")\n",
    "   print(n1)\n",
    "# generate fibonacci sequence\n",
    "else:\n",
    "   print(\"Fibonacci sequence:\")\n",
    "   while count < nterms:\n",
    "       print(n1)\n",
    "       nth = n1 + n2\n",
    "       # update values\n",
    "       n1 = n2\n",
    "       n2 = nth\n",
    "       count += 1\n"
   ]
  },
  {
   "cell_type": "code",
   "execution_count": 14,
   "id": "51342100-5173-4c34-a718-8ba888e0ec61",
   "metadata": {},
   "outputs": [
    {
     "name": "stdout",
     "output_type": "stream",
     "text": [
      "The word is vishaka and it contains 3 vowels in it\n"
     ]
    }
   ],
   "source": [
    "#11.vowels\n",
    "\n",
    "# Sentence\n",
    "string = \"vishaka\"\n",
    "# Sentence splitted up into words\n",
    "wordList = string.split()\n",
    "# Defining vowels for uppercase and lowercase\n",
    "vowels = ['a', 'e', 'i', 'o', 'u', 'A', 'E', 'I', 'O', 'U']\n",
    "#Traversing every word in wordList\n",
    "for word in wordList:\n",
    "    vowelCount = 0\n",
    "    #Traversing every character of the word\n",
    "    for i in range(0, len(word)):\n",
    "        # If the word contains a vowel then vowelCount adds by 1\n",
    "        if word[i] in vowels:\n",
    "            vowelCount += 1\n",
    "    print(\"The word is\", word, \"and it contains\", vowelCount, \"vowels in it\")"
   ]
  },
  {
   "cell_type": "code",
   "execution_count": 27,
   "id": "0f7576e0-df92-46e3-a416-5c4e21f84491",
   "metadata": {},
   "outputs": [
    {
     "data": {
      "text/plain": [
       "[(2, 3, 4, 5),\n",
       " (4, 6, 8, 10),\n",
       " (6, 9, 12, 15),\n",
       " (8, 12, 16, 20),\n",
       " (10, 15, 20, 25),\n",
       " (12, 18, 24, 30),\n",
       " (14, 21, 28, 35),\n",
       " (16, 24, 32, 40),\n",
       " (18, 27, 36, 45),\n",
       " (20, 30, 40, 50)]"
      ]
     },
     "execution_count": 27,
     "metadata": {},
     "output_type": "execute_result"
    }
   ],
   "source": [
    "lst=[1,2,3,4,5,6,7,8,9,10]\n",
    "c=[(x*2, x*3, x*4, x*5)  for x in lst]\n",
    "c"
   ]
  },
  {
   "cell_type": "code",
   "execution_count": 3,
   "id": "01b56ec9-3d78-438b-a02f-e4fde63d12bd",
   "metadata": {},
   "outputs": [
    {
     "name": "stdout",
     "output_type": "stream",
     "text": [
      "DSA\n",
      "DSM\n",
      "pwskills\n"
     ]
    }
   ],
   "source": [
    "#13.reverse a list\n",
    "lst=['pwskills','DSM','DSA']\n",
    "for i in lst[::-1]:\n",
    "    print(i)\n"
   ]
  },
  {
   "cell_type": "code",
   "execution_count": 4,
   "id": "c6db1181-2ae0-42fa-82a1-d54a3141116e",
   "metadata": {},
   "outputs": [
    {
     "name": "stdout",
     "output_type": "stream",
     "text": [
      "The common elements in the two lists are: \n",
      "[5]\n"
     ]
    }
   ],
   "source": [
    "#14.common element\n",
    "def common_member(a, b):\n",
    "    result = [i for i in a if i in b]\n",
    "    return result\n",
    " \n",
    "a = [1, 2, 3, 4, 5]\n",
    "b = [5, 6, 7, 8, 9]\n",
    " \n",
    "print(\"The common elements in the two lists are: \")\n",
    "print(common_member(a, b))"
   ]
  },
  {
   "cell_type": "code",
   "execution_count": 5,
   "id": "7b3511a5-570d-4f4a-9e23-91cc360e374b",
   "metadata": {},
   "outputs": [
    {
     "name": "stdout",
     "output_type": "stream",
     "text": [
      "dict_items([('Name', 'Sam'), ('Age', 26), ('City', 'Toronto'), ('Degree', 'Masters')])\n",
      "\n",
      "Dictionary Key-Value pairs are:\n",
      "('Name', 'Sam')\n",
      "('Age', 26)\n",
      "('City', 'Toronto')\n",
      "('Degree', 'Masters')\n"
     ]
    }
   ],
   "source": [
    "#15.dict\n",
    "\n",
    "my_dict = {'Name': 'Sam', 'Age': 26, 'City': 'Toronto', 'Degree': 'Masters'}\n",
    "\n",
    "# Method 1\n",
    "print(my_dict.items())\n",
    "print('')\n",
    "\n",
    "# Method 2\n",
    "print('Dictionary Key-Value pairs are:')\n",
    "for i in my_dict.items():\n",
    "    print(i)\n"
   ]
  },
  {
   "cell_type": "code",
   "execution_count": 6,
   "id": "e8f11452-6edc-4074-9459-5063e61130c7",
   "metadata": {},
   "outputs": [
    {
     "name": "stdout",
     "output_type": "stream",
     "text": [
      "The gcd of 60 and 48 is: 12\n"
     ]
    }
   ],
   "source": [
    "#16.gcd\n",
    "\n",
    "gcd = lambda a, b: a if b == 0 else gcd(b, a % b)\n",
    " \n",
    "a = 60\n",
    "b = 48\n",
    " \n",
    "# Prints 12\n",
    "print(\"The gcd of 60 and 48 is:\", gcd(a, b))"
   ]
  },
  {
   "cell_type": "code",
   "execution_count": 7,
   "id": "0c1eebd6-0b84-40a0-add4-510955a6d2b5",
   "metadata": {},
   "outputs": [
    {
     "name": "stdout",
     "output_type": "stream",
     "text": [
      "Yes\n"
     ]
    }
   ],
   "source": [
    "#17.palindrome\n",
    "def isPalindrome(str):\n",
    " \n",
    "    # Run loop from 0 to len/2\n",
    "    for i in range(0, int(len(str)/2)):\n",
    "        if str[i] != str[len(str)-i-1]:\n",
    "            return False\n",
    "    return True\n",
    " \n",
    "# main function\n",
    "s = \"malayalam\"\n",
    "ans = isPalindrome(s)\n",
    " \n",
    "if (ans):\n",
    "    print(\"Yes\")\n",
    "else:\n",
    "    print(\"No\")"
   ]
  },
  {
   "cell_type": "code",
   "execution_count": 17,
   "id": "89f40b5f-d3c7-484d-bda1-40fcea61ed26",
   "metadata": {},
   "outputs": [
    {
     "name": "stdout",
     "output_type": "stream",
     "text": [
      "{'4', '2', '55', '7', '33'}\n"
     ]
    }
   ],
   "source": [
    "#18.remove duplicates\n",
    "s=[{'2','33','33','4','55','7','55'}]\n",
    "for i in s:\n",
    "    print(i)"
   ]
  },
  {
   "cell_type": "code",
   "execution_count": 22,
   "id": "88796ec5-36e9-46c7-8e21-7a36e07b360d",
   "metadata": {},
   "outputs": [
    {
     "name": "stdout",
     "output_type": "stream",
     "text": [
      "2\n"
     ]
    }
   ],
   "source": [
    "#19.count\n",
    "s='bananasdasdnansbanana'\n",
    "b='banana'\n",
    "def count_words(s,b):\n",
    "    answer = 0\n",
    "    for i in range(len(s)):\n",
    "        if s[i:].startswith(b):\n",
    "            answer += 1\n",
    "    print(answer)\n",
    "\n",
    "count_words(s,b)"
   ]
  },
  {
   "cell_type": "code",
   "execution_count": 28,
   "id": "08063156-7eda-492c-8776-b2f4d9b12de8",
   "metadata": {},
   "outputs": [
    {
     "name": "stdin",
     "output_type": "stream",
     "text": [
      " Please Enter the Maximum Value :  50\n"
     ]
    },
    {
     "name": "stdout",
     "output_type": "stream",
     "text": [
      "1\n",
      "3\n",
      "5\n",
      "7\n",
      "9\n",
      "11\n",
      "13\n",
      "15\n",
      "17\n",
      "19\n",
      "21\n",
      "23\n",
      "25\n",
      "27\n",
      "29\n",
      "31\n",
      "33\n",
      "35\n",
      "37\n",
      "39\n",
      "41\n",
      "43\n",
      "45\n",
      "47\n",
      "49\n",
      "The Sum of Odd Numbers from 1 to 50 = 625\n"
     ]
    }
   ],
   "source": [
    "#20 Python Program to Calculate Sum of Odd Numbers from 1 to N\n",
    " \n",
    "maximum = int(input(\" Please Enter the Maximum Value : \"))\n",
    "Oddtotal = 0\n",
    "\n",
    "for number in range(1, maximum+1):\n",
    "    if(number % 2 != 0):\n",
    "        print(\"{0}\".format(number))\n",
    "        Oddtotal = Oddtotal + number\n",
    "\n",
    "print(\"The Sum of Odd Numbers from 1 to {0} = {1}\".format(number, Oddtotal)) "
   ]
  },
  {
   "cell_type": "code",
   "execution_count": 1,
   "id": "7870dcfe-a02b-4513-a405-28d25d35ef9e",
   "metadata": {},
   "outputs": [
    {
     "name": "stdin",
     "output_type": "stream",
     "text": [
      "Please select a starting year:  1992\n",
      "Please select how many years you'd like to check:  1\n"
     ]
    },
    {
     "name": "stdout",
     "output_type": "stream",
     "text": [
      "1992: Is a leap year\n",
      "1993\n"
     ]
    }
   ],
   "source": [
    "#21.leap year or not\n",
    "start_year = int(input(\"Please select a starting year: \"))\n",
    "num_of_years = int(input(\"Please select how many years you'd like to check: \"))\n",
    "end_year = start_year + num_of_years\n",
    "\n",
    "# The formula I used below to determine when a year is a leap year was copied from emrah-diril in this thread\n",
    "\n",
    "for year in range(start_year-1, end_year):\n",
    "    year += 1    \n",
    "    if year % 4 == 0 and (year % 100 != 0 or year % 400 == 0):\n",
    "        print (\"{}: Is a leap year\".format(year))\n",
    "    else:\n",
    "        print (year)"
   ]
  },
  {
   "cell_type": "code",
   "execution_count": 2,
   "id": "9ac878d6-cb13-4098-86ea-79ad95169d92",
   "metadata": {},
   "outputs": [
    {
     "name": "stdin",
     "output_type": "stream",
     "text": [
      "Enter a number greater than two:  34\n"
     ]
    },
    {
     "name": "stdout",
     "output_type": "stream",
     "text": [
      "1: 5.830951894845301\n",
      "2: 2.414736402766418\n",
      "3: 1.5539422134578937\n"
     ]
    }
   ],
   "source": [
    "#22.square root\n",
    "import math\n",
    "\n",
    "input_num = float(input(\"Enter a number greater than two: \"))\n",
    "\n",
    "while input_num < 2:\n",
    "    input_num = float(input(\"Enter a number greater than two: \"))\n",
    "else:\n",
    "    sqrt_num = input_num\n",
    "    count = 0\n",
    "    while sqrt_num > 2:\n",
    "        sqrt_num = math.sqrt(sqrt_num)\n",
    "        count += 1\n",
    "        print(count, \": \", sqrt_num, sep = '')"
   ]
  },
  {
   "cell_type": "code",
   "execution_count": 3,
   "id": "07a0049f-9d47-4b5d-a0d7-6daba2379be1",
   "metadata": {},
   "outputs": [
    {
     "name": "stdout",
     "output_type": "stream",
     "text": [
      "-----Enter the two positive integer numbers-----\n"
     ]
    },
    {
     "name": "stdin",
     "output_type": "stream",
     "text": [
      " 7\n",
      " 8\n"
     ]
    },
    {
     "name": "stdout",
     "output_type": "stream",
     "text": [
      "\n",
      "The LCM of two positive numbers  7  &  8  is  56.0 .\n"
     ]
    }
   ],
   "source": [
    "#23.lcm\n",
    "# Python Program to Find LCM of Two Numbers using For loop\n",
    "p, q, x, g = 0, 0, 0, 0\n",
    "\n",
    "# p & q - To store the two positive numbers\n",
    "# x - To store the LCM number\n",
    "# g - To store the GCD\n",
    "\n",
    "print (\"-----Enter the two positive integer numbers-----\")\n",
    "p = int (input ())\n",
    "q = int (input ())\n",
    "\n",
    "for i in range (1, p + 1):\n",
    "\tif i <= q:\n",
    "\t\tif p % i == 0 and q % i == 0:\n",
    "\t\t\tg = i\n",
    "\n",
    "x = (p * q) / g\n",
    "print (\"\\nThe LCM of two positive numbers \", p, \" & \", q, \" is \", x, \".\")"
   ]
  },
  {
   "cell_type": "markdown",
   "id": "4c57d3d7-40fe-4c26-bf7e-55aadde1351c",
   "metadata": {},
   "source": [
    "# IF ELSE"
   ]
  },
  {
   "cell_type": "code",
   "execution_count": 12,
   "id": "2058fcab-3b69-4758-9d5d-d78e41cc0fd4",
   "metadata": {},
   "outputs": [
    {
     "name": "stdin",
     "output_type": "stream",
     "text": [
      "enter the number 19\n"
     ]
    },
    {
     "name": "stdout",
     "output_type": "stream",
     "text": [
      "number is positive\n"
     ]
    }
   ],
   "source": [
    "#1.\n",
    "n=int(input('enter the number'))\n",
    "if n==0:\n",
    "      print ('number is zero')\n",
    "elif n>0:\n",
    "      print('number is positive')\n",
    "else:\n",
    "      print('number is negative')"
   ]
  },
  {
   "cell_type": "code",
   "execution_count": 13,
   "id": "1754a7d5-69e9-47dd-92c1-ed0fbb9ade49",
   "metadata": {},
   "outputs": [
    {
     "name": "stdin",
     "output_type": "stream",
     "text": [
      "enter the number 24\n"
     ]
    },
    {
     "name": "stdout",
     "output_type": "stream",
     "text": [
      "the given number is even\n"
     ]
    }
   ],
   "source": [
    "#2.even or odd\n",
    "n=int(input('enter the number'))\n",
    "if n%2==0:\n",
    "    print('the given number is even')\n",
    "else:\n",
    "    print('the given number is odd')"
   ]
  },
  {
   "cell_type": "code",
   "execution_count": 16,
   "id": "e6215a97-7fa4-49d6-b761-2d5d2bf38f01",
   "metadata": {},
   "outputs": [
    {
     "name": "stdout",
     "output_type": "stream",
     "text": [
      "Positive number\n"
     ]
    }
   ],
   "source": [
    "#3.nested\n",
    "# nested if statement\n",
    "  \n",
    "num = 15\n",
    "if num >= 0:\n",
    "    if num == 0:\n",
    "        print(\"Zero\")\n",
    "    else:\n",
    "        print(\"Positive number\")\n",
    "else:\n",
    "    print(\"Negative number\")\n"
   ]
  },
  {
   "cell_type": "code",
   "execution_count": 17,
   "id": "68ea14ef-01f9-4eaf-bba9-76318409ead8",
   "metadata": {},
   "outputs": [
    {
     "name": "stdout",
     "output_type": "stream",
     "text": [
      "c is greatest number 90\n"
     ]
    }
   ],
   "source": [
    "#4.greatest number\n",
    "a=34\n",
    "b=55\n",
    "c=90\n",
    "if (a>b)and(a>c):\n",
    "    print (\"a is greatest number\",a)\n",
    "elif(b>c):\n",
    "    print(\"b is greatest number\",b)\n",
    "else:\n",
    "    print(\"c is greatest number\",c)"
   ]
  },
  {
   "cell_type": "code",
   "execution_count": 22,
   "id": "7f7b4d38-3563-46c1-98f3-01fcee3ff128",
   "metadata": {},
   "outputs": [
    {
     "name": "stdin",
     "output_type": "stream",
     "text": [
      "Enter a number:  54\n"
     ]
    },
    {
     "name": "stdout",
     "output_type": "stream",
     "text": [
      "Absolute value: 54.0\n"
     ]
    }
   ],
   "source": [
    "#5.\n",
    "number = float(input(\"Enter a number: \"))\n",
    "\n",
    "if number < 0:\n",
    "    absolute_value = -number\n",
    "else:\n",
    "    absolute_value = number\n",
    "\n",
    "print(\"Absolute value: \" + str(absolute_value))"
   ]
  },
  {
   "cell_type": "code",
   "execution_count": 3,
   "id": "2e2010ae-c502-4c76-b308-61b3f3bd2de0",
   "metadata": {},
   "outputs": [
    {
     "name": "stdout",
     "output_type": "stream",
     "text": [
      "Consonant\n",
      "Vowel\n"
     ]
    }
   ],
   "source": [
    "#6.vowel\n",
    "# Python3 program to check if a given \n",
    "# character is vowel or consonant.\n",
    "  \n",
    "# Function to check whether a character \n",
    "# is vowel or not\n",
    "def vowelOrConsonant(x):\n",
    "  \n",
    "    if (x == 'a' or x == 'e' or\n",
    "        x == 'i' or x == 'o' or x == 'u'):\n",
    "        print(\"Vowel\")\n",
    "    else:\n",
    "        print(\"Consonant\")\n",
    "  \n",
    "# Driver code\n",
    "vowelOrConsonant('c')\n",
    "vowelOrConsonant('e')\n",
    "    "
   ]
  },
  {
   "cell_type": "code",
   "execution_count": 5,
   "id": "34370e4c-430d-40c0-8cf2-ce1eee95a7bb",
   "metadata": {},
   "outputs": [
    {
     "name": "stdin",
     "output_type": "stream",
     "text": [
      "enter your age 56\n"
     ]
    },
    {
     "name": "stdout",
     "output_type": "stream",
     "text": [
      "you are eligible to vote\n"
     ]
    }
   ],
   "source": [
    "#7.vote\n",
    "age=int(input(\"enter your age\"))\n",
    "if age>=18:\n",
    "    print('you are eligible to vote')\n",
    "else:\n",
    "          print('you are not eligible to vote')\n",
    "          "
   ]
  },
  {
   "cell_type": "code",
   "execution_count": 12,
   "id": "1d784c45-a7f0-42b2-8597-d82b1f08abde",
   "metadata": {},
   "outputs": [
    {
     "name": "stdin",
     "output_type": "stream",
     "text": [
      "enter your amount 12000\n"
     ]
    },
    {
     "name": "stdout",
     "output_type": "stream",
     "text": [
      "Discount :  6000.0\n",
      "Net Pay  :  6000.0\n"
     ]
    }
   ],
   "source": [
    "#8.discount\n",
    "amt=int(input(\"enter your amount\"))\n",
    "if amt>0:\n",
    "    if amt>=10000:\n",
    "        disc=amt*0.5\n",
    "elif amt>=15000:\n",
    "    disc=amt*1.5\n",
    "elif amt>=25000:\n",
    "    disc=amt*2.5\n",
    "print(\"Discount : \",disc)\n",
    "print(\"Net Pay  : \",amt-disc)"
   ]
  },
  {
   "cell_type": "code",
   "execution_count": 14,
   "id": "294e975f-0ada-405b-a280-bc467b8cb859",
   "metadata": {},
   "outputs": [
    {
     "name": "stdout",
     "output_type": "stream",
     "text": [
      " 5 is in the range\n"
     ]
    }
   ],
   "source": [
    "#9.number is within range\n",
    "def test_range(n):\n",
    "    if n in range(3,9):\n",
    "        print( \" %s is in the range\"%str(n))\n",
    "    else :\n",
    "        print(\"The number is outside the given range.\")\n",
    "test_range(5)\n"
   ]
  },
  {
   "cell_type": "code",
   "execution_count": 19,
   "id": "853500e5-b162-4150-b2f3-0eec33591a07",
   "metadata": {},
   "outputs": [
    {
     "name": "stdin",
     "output_type": "stream",
     "text": [
      "enter your total score 480\n"
     ]
    },
    {
     "name": "stdout",
     "output_type": "stream",
     "text": [
      "your grade is A\n"
     ]
    }
   ],
   "source": [
    "#10.grade\n",
    "score=int(input(\"enter your total score\"))\n",
    "if score>=490:\n",
    "    print('your grade is O')\n",
    "elif score >=450:\n",
    "    print('your grade is A')\n",
    "elif score >=400:\n",
    "    print('your grade is B')\n",
    "elif score >=350:\n",
    "    print('your grade is C')\n",
    "elif score >=300:\n",
    "    print('your grade is D')\n",
    "else:\n",
    "    print('better luck net time')\n",
    " \n",
    "\n"
   ]
  },
  {
   "cell_type": "code",
   "execution_count": 20,
   "id": "badd6a37-0f2d-49e1-bd13-3711d80d58b2",
   "metadata": {},
   "outputs": [
    {
     "name": "stdout",
     "output_type": "stream",
     "text": [
      "The zero length string without spaces is empty ? : Yes\n",
      "The zero length string with just spaces is empty ? : No\n"
     ]
    }
   ],
   "source": [
    "#11.# initializing string\n",
    "test_str1 = \"\"\n",
    "test_str2 = \"  \"\n",
    " \n",
    "# checking if string is empty\n",
    "print(\"The zero length string without spaces is empty ? : \", end=\"\")\n",
    "if(len(test_str1) == 0):\n",
    "    print(\"Yes\")\n",
    "else:\n",
    "    print(\"No\")\n",
    " \n",
    "# prints No\n",
    "print(\"The zero length string with just spaces is empty ? : \", end=\"\")\n",
    "if(len(test_str2) == 0):\n",
    "    print(\"Yes\")\n",
    "else:\n",
    "    print(\"No\")"
   ]
  },
  {
   "cell_type": "code",
   "execution_count": 23,
   "id": "f3204152-e6de-424e-9388-d6f633981b8c",
   "metadata": {},
   "outputs": [
    {
     "name": "stdin",
     "output_type": "stream",
     "text": [
      "Enter length of side a:  4\n",
      "Enter length of side b:  4\n",
      "Enter length of side c:  4\n"
     ]
    },
    {
     "name": "stdout",
     "output_type": "stream",
     "text": [
      "Triangle is Equilateral.\n"
     ]
    }
   ],
   "source": [
    "# 12.Validity of Triangle given sides\n",
    "\n",
    "# Function definition to check validity\n",
    "def is_valid_triangle(a,b,c):\n",
    "    if a+b>=c and b+c>=a and c+a>=b:\n",
    "        return True\n",
    "    else:\n",
    "        return False\n",
    "\n",
    "# Function definition for type\n",
    "def type_of_triangle(a,b,c):\n",
    "    if a==b and b==c:\n",
    "        print('Triangle is Equilateral.')\n",
    "    elif a==b or b==c or a==c:\n",
    "        print('Triangle is Isosceles.')\n",
    "    else:\n",
    "        print('Triangle is Scalane')\n",
    "\n",
    "# Reading Three Sides\n",
    "side_a = float(input('Enter length of side a: '))\n",
    "side_b = float(input('Enter length of side b: '))\n",
    "side_c = float(input('Enter length of side c: '))\n",
    "\n",
    "# Function call & making decision\n",
    "if is_valid_triangle(side_a, side_b, side_c):\n",
    "    type_of_triangle(side_a, side_b, side_c)\n",
    "else:\n",
    "    print('Tringle is not possible from given sides.')\n"
   ]
  },
  {
   "cell_type": "code",
   "execution_count": 24,
   "id": "a9b6df19-0c56-4720-a412-14857629baf3",
   "metadata": {},
   "outputs": [
    {
     "name": "stdout",
     "output_type": "stream",
     "text": [
      "Sunday\n"
     ]
    }
   ],
   "source": [
    "#13.\n",
    "from datetime import datetime\n",
    " \n",
    " \n",
    "def day_of_week(date_str):\n",
    "    date_obj = datetime.strptime(date_str, '%d %m %Y')\n",
    "    day = date_obj.day\n",
    "    month = date_obj.month\n",
    "    year = date_obj.year\n",
    "    if month < 3:\n",
    "        month += 12\n",
    "        year -= 1\n",
    "    century = year // 100\n",
    "    year_of_century = year % 100\n",
    "    day_num = (day + ((13 * (month + 1)) // 5) + year_of_century +\n",
    "               (year_of_century // 4) + (century // 4) - (2 * century)) % 7-1\n",
    "    day_names = ['Sunday', 'Monday', 'Tuesday',\n",
    "                 'Wednesday', 'Thursday', 'Friday', 'Saturday']\n",
    "    return day_names[day_num]\n",
    " \n",
    " \n",
    "date_str = '03 02 2019'\n",
    "print(day_of_week(date_str))"
   ]
  },
  {
   "cell_type": "code",
   "execution_count": 25,
   "id": "e3bf3767-fc2c-446b-a5ec-6c3387e6aecb",
   "metadata": {},
   "outputs": [
    {
     "name": "stdout",
     "output_type": "stream",
     "text": [
      "2000 is a leap year\n"
     ]
    }
   ],
   "source": [
    "# 14.Python program to check if year is a leap year or not\n",
    "\n",
    "year = 2000\n",
    "\n",
    "# To get year (integer input) from the user\n",
    "# year = int(input(\"Enter a year: \"))\n",
    "\n",
    "# divided by 100 means century year (ending with 00)\n",
    "# century year divided by 400 is leap year\n",
    "if (year % 400 == 0) and (year % 100 == 0):\n",
    "    print(\"{0} is a leap year\".format(year))\n",
    "\n",
    "# not divided by 100 means not a century year\n",
    "# year divided by 4 is a leap year\n",
    "elif (year % 4 ==0) and (year % 100 != 0):\n",
    "    print(\"{0} is a leap year\".format(year))\n",
    "\n",
    "# if not divided by both 400 (century year) and 4 (not century year)\n",
    "# year is not leap year\n",
    "else:\n",
    "    print(\"{0} is not a leap year\".format(year))"
   ]
  },
  {
   "cell_type": "code",
   "execution_count": 29,
   "id": "de0fd93d-8fb5-442f-8589-e9c1449c40f4",
   "metadata": {},
   "outputs": [
    {
     "ename": "AssertionError",
     "evalue": "",
     "output_type": "error",
     "traceback": [
      "\u001b[0;31m---------------------------------------------------------------------------\u001b[0m",
      "\u001b[0;31mAssertionError\u001b[0m                            Traceback (most recent call last)",
      "Cell \u001b[0;32mIn[29], line 6\u001b[0m\n\u001b[1;32m      3\u001b[0m     \u001b[38;5;28;01mreturn\u001b[39;00m \u001b[38;5;28msum\u001b[39m(marks)\u001b[38;5;241m/\u001b[39m\u001b[38;5;28mlen\u001b[39m(marks)\n\u001b[1;32m      5\u001b[0m mark1 \u001b[38;5;241m=\u001b[39m []\n\u001b[0;32m----> 6\u001b[0m \u001b[38;5;28mprint\u001b[39m(\u001b[38;5;124m\"\u001b[39m\u001b[38;5;124mAverage of mark1:\u001b[39m\u001b[38;5;124m\"\u001b[39m,\u001b[43mavg\u001b[49m\u001b[43m(\u001b[49m\u001b[43mmark1\u001b[49m\u001b[43m)\u001b[49m)\n",
      "Cell \u001b[0;32mIn[29], line 2\u001b[0m, in \u001b[0;36mavg\u001b[0;34m(marks)\u001b[0m\n\u001b[1;32m      1\u001b[0m \u001b[38;5;28;01mdef\u001b[39;00m \u001b[38;5;21mavg\u001b[39m(marks):\n\u001b[0;32m----> 2\u001b[0m     \u001b[38;5;28;01massert\u001b[39;00m \u001b[38;5;28mlen\u001b[39m(marks) \u001b[38;5;241m!=\u001b[39m \u001b[38;5;241m0\u001b[39m\n\u001b[1;32m      3\u001b[0m     \u001b[38;5;28;01mreturn\u001b[39;00m \u001b[38;5;28msum\u001b[39m(marks)\u001b[38;5;241m/\u001b[39m\u001b[38;5;28mlen\u001b[39m(marks)\n",
      "\u001b[0;31mAssertionError\u001b[0m: "
     ]
    }
   ],
   "source": [
    "def avg(marks):\n",
    "    assert len(marks) != 0\n",
    "    return sum(marks)/len(marks)\n",
    "\n",
    "mark1 = []\n",
    "print(\"Average of mark1:\",avg(mark1))"
   ]
  },
  {
   "cell_type": "code",
   "execution_count": 31,
   "id": "6c8a0b6d-ff6d-4836-8042-fac61d462425",
   "metadata": {},
   "outputs": [
    {
     "name": "stdin",
     "output_type": "stream",
     "text": [
      "enter your age 34\n"
     ]
    },
    {
     "name": "stdout",
     "output_type": "stream",
     "text": [
      "you are eligible for senior citizen\n"
     ]
    }
   ],
   "source": [
    "#16.\n",
    "age=int(input(\"enter your age\"))\n",
    "if age>=18:\n",
    "    print('you are eligible for senior citizen')\n",
    "else:\n",
    "          print('you are not eligible for senior citizen')\n",
    "          "
   ]
  },
  {
   "cell_type": "code",
   "execution_count": 32,
   "id": "5f6a8fc0-246d-46b3-97da-5239f41ab02a",
   "metadata": {},
   "outputs": [
    {
     "name": "stdin",
     "output_type": "stream",
     "text": [
      "Please Enter Your Own Character :  BABY BUD\n"
     ]
    },
    {
     "name": "stdout",
     "output_type": "stream",
     "text": [
      "The Given Character  BABY BUD is an Uppercase Alphabet\n"
     ]
    }
   ],
   "source": [
    "#17.lower case upper case\n",
    "# Python Program to check character is Lowercase or Uppercase\n",
    "ch = input(\"Please Enter Your Own Character : \")\n",
    "\n",
    "if(ch.isupper()):\n",
    "    print(\"The Given Character \", ch, \"is an Uppercase Alphabet\")\n",
    "elif(ch.islower()):\n",
    "    print(\"The Given Character \", ch, \"is a Lowercase Alphabet\")\n",
    "else:\n",
    "    print(\"The Given Character \", ch, \"is Not a Lower or Uppercase Alphabet\")"
   ]
  },
  {
   "cell_type": "code",
   "execution_count": 33,
   "id": "386df80e-9650-46a6-80b6-c8e3b6e7f173",
   "metadata": {},
   "outputs": [
    {
     "name": "stdout",
     "output_type": "stream",
     "text": [
      "The solution are (-3+0j) and (-2+0j)\n"
     ]
    }
   ],
   "source": [
    "#18.\n",
    "# Solve the quadratic equation ax**2 + bx + c = 0\n",
    "\n",
    "# import complex math module\n",
    "import cmath\n",
    "\n",
    "a = 1\n",
    "b = 5\n",
    "c = 6\n",
    "\n",
    "# calculate the discriminant\n",
    "d = (b**2) - (4*a*c)\n",
    "\n",
    "# find two solutions\n",
    "sol1 = (-b-cmath.sqrt(d))/(2*a)\n",
    "sol2 = (-b+cmath.sqrt(d))/(2*a)\n",
    "\n",
    "print('The solution are {0} and {1}'.format(sol1,sol2))\n"
   ]
  },
  {
   "cell_type": "code",
   "execution_count": 35,
   "id": "c1366503-881e-4cb2-9788-e4b6d4c3cf25",
   "metadata": {},
   "outputs": [
    {
     "name": "stdout",
     "output_type": "stream",
     "text": [
      "2020 is a leap year\n"
     ]
    }
   ],
   "source": [
    "#19.\n",
    "# Python program to check if year is a leap year or not\n",
    "\n",
    "year = 2020\n",
    "\n",
    "# To get year (integer input) from the user\n",
    "# year = int(input(\"Enter a year: \"))\n",
    "\n",
    "# divided by 100 means century year (ending with 00)\n",
    "# century year divided by 400 is leap year\n",
    "if (year % 400 == 0) and (year % 100 == 0):\n",
    "    print(\"{0} is a leap year\".format(year))\n",
    "\n",
    "# not divided by 100 means not a century year\n",
    "# year divided by 4 is a leap year\n",
    "elif (year % 4 ==0) and (year % 100 != 0):\n",
    "    print(\"{0} is a leap year\".format(year))\n",
    "\n",
    "# if not divided by both 400 (century year) and 4 (not century year)\n",
    "# year is not leap year\n",
    "else:\n",
    "    print(\"{0} is not a leap year\".format(year))"
   ]
  },
  {
   "cell_type": "code",
   "execution_count": 36,
   "id": "bfc497ad-d37d-45c1-a656-a004dd1b1eff",
   "metadata": {},
   "outputs": [
    {
     "name": "stdout",
     "output_type": "stream",
     "text": [
      "Perfect squares in the list: [4, 16, 36, 81, 49, 100]\n"
     ]
    }
   ],
   "source": [
    "#20.\n",
    "def is_perfect_square(num):\n",
    "    # Function to check if a number is a perfect square\n",
    "    return int(num ** 0.5) ** 2 == num\n",
    " \n",
    "def check_perfect_squares_in_list(num_list):\n",
    "    # Function to check for perfect squares in the list\n",
    "    perfect_squares = [num for num in num_list if is_perfect_square(num)]\n",
    "    return perfect_squares\n",
    " \n",
    "if __name__ == \"__main__\":\n",
    "    # Example list of numbers\n",
    "    numbers = [4, 16, 17, 11, 36, 82,\n",
    "           81, 49, 110, 120, 100]\n",
    " \n",
    "    perfect_squares_list = check_perfect_squares_in_list(numbers)\n",
    "    print(\"Perfect squares in the list:\", perfect_squares_list)"
   ]
  },
  {
   "cell_type": "code",
   "execution_count": 38,
   "id": "d8d87bd5-8e28-4ff9-b492-5c974e5c35ad",
   "metadata": {},
   "outputs": [
    {
     "name": "stdout",
     "output_type": "stream",
     "text": [
      "l\n",
      "e\n",
      "Out of for loop\n",
      "\n",
      "l\n",
      "e\n",
      "Out of while loop\n"
     ]
    }
   ],
   "source": [
    "#21.\n",
    "# Python program to demonstrate\n",
    "# break statement\n",
    "  \n",
    "s = 'lexivishu'\n",
    "# Using for loop\n",
    "for letter in s:\n",
    "  \n",
    "    print(letter)\n",
    "    # break the loop as soon it sees 'e'\n",
    "    # or 's'\n",
    "    if letter == 'e' or letter == 's':\n",
    "        break\n",
    "  \n",
    "print(\"Out of for loop\")\n",
    "print()\n",
    "  \n",
    "i = 0\n",
    "  \n",
    "# Using while loop\n",
    "while True:\n",
    "    print(s[i])\n",
    "  \n",
    "    # break the loop as soon it sees 'e'\n",
    "    # or 's'\n",
    "    if s[i] == 'e' or s[i] == 's':\n",
    "        break\n",
    "    i += 1\n",
    "  \n",
    "print(\"Out of while loop\")"
   ]
  },
  {
   "cell_type": "code",
   "execution_count": 39,
   "id": "d9e39c8a-1736-415a-9da2-6a8155c3fb8e",
   "metadata": {},
   "outputs": [
    {
     "name": "stdin",
     "output_type": "stream",
     "text": [
      "Please enter your height in inches:  6\n",
      "Please enter your weight in pound:  45\n"
     ]
    },
    {
     "name": "stdout",
     "output_type": "stream",
     "text": [
      "Your Body Mass Index is:  878.75\n",
      "Obese.\n"
     ]
    }
   ],
   "source": [
    "#22.\n",
    "while True:\n",
    "    try:\n",
    "        # Taking user input\n",
    "        Height = float(input(\"Please enter your height in inches: \"))\n",
    "        Weight = float(input(\"Please enter your weight in pound: \"))\n",
    "    except ValueError:\n",
    "        # Validation error.\n",
    "        print(\"Please provide valid input.\")\n",
    "        continue  # Return to the start of the loop.\n",
    "    else:\n",
    "        if Height <= 0 or Weight <= 0:\n",
    "            print(\"Your input must not be zero or less.\")\n",
    "            continue\n",
    "        else:\n",
    "            # Calculate BMI\n",
    "            BMIIndex = round(Weight / (Height * Height) * 703, 2)\n",
    "\n",
    "            # Print the output\n",
    "            print(\"Your Body Mass Index is: \", BMIIndex)\n",
    "\n",
    "            if BMIIndex < 18.5:\n",
    "                print(\"Underweight.\")\n",
    "            elif BMIIndex <= 24.9:\n",
    "                print(\"Normal.\")\n",
    "            elif BMIIndex <= 29.9:\n",
    "                print(\"Overweight.\")\n",
    "            else:\n",
    "                print(\"Obese.\")\n",
    "        break"
   ]
  },
  {
   "cell_type": "code",
   "execution_count": 5,
   "id": "c0566145-2ac0-4f21-b483-16043ea8e33c",
   "metadata": {},
   "outputs": [
    {
     "name": "stdout",
     "output_type": "stream",
     "text": [
      "0 is >= 0\n",
      "1 is >= 0\n",
      "2 is >= 0\n",
      "3 is >= 0\n",
      "4 is >= 0\n"
     ]
    }
   ],
   "source": [
    "#23.\n",
    "lst = [0,1,-1,2,-2,3,-3,4,-4]\n",
    "filtered = []\n",
    "for ele in lst:\n",
    "    if ele >= 0:\n",
    "        filtered.append(ele)\n",
    "for ele in filtered:\n",
    "    print(f'{ele} is >= 0')"
   ]
  },
  {
   "cell_type": "code",
   "execution_count": 42,
   "id": "3be37a82-bcfa-4e19-936b-21dfb396a4c1",
   "metadata": {},
   "outputs": [
    {
     "name": "stdout",
     "output_type": "stream",
     "text": [
      "29 is a prime number\n"
     ]
    }
   ],
   "source": [
    "#24. Program to check if a number is prime or not\n",
    "\n",
    "num = 29\n",
    "\n",
    "# To take input from the user\n",
    "#num = int(input(\"Enter a number: \"))\n",
    "\n",
    "# define a flag variable\n",
    "flag = False\n",
    "\n",
    "if num == 1:\n",
    "    print(num, \"is not a prime number\")\n",
    "elif num > 1:\n",
    "    # check for factors\n",
    "    for i in range(2, num):\n",
    "        if (num % i) == 0:\n",
    "            # if factor is found, set flag to True\n",
    "            flag = True\n",
    "            # break out of loop\n",
    "            break\n",
    "\n",
    "    # check if flag is True\n",
    "    if flag:\n",
    "        print(num, \"is not a prime number\")\n",
    "    else:\n",
    "        print(num, \"is a prime number\")"
   ]
  },
  {
   "cell_type": "markdown",
   "id": "00a123ec-3d43-4cb4-9498-a7a21e72360a",
   "metadata": {},
   "source": [
    "## MAP\n"
   ]
  },
  {
   "cell_type": "code",
   "execution_count": 7,
   "id": "4754d8cf-58d1-43d9-9ab6-1201df72abf0",
   "metadata": {},
   "outputs": [
    {
     "data": {
      "text/plain": [
       "[7, 8, 9, 10, 11]"
      ]
     },
     "execution_count": 7,
     "metadata": {},
     "output_type": "execute_result"
    }
   ],
   "source": [
    "#1.map\n",
    "'''#Even though the Python documentation calls this argument function, it can be any Python callable.\n",
    "This includes built-in functions, classes, methods, lambda functions, and user-defined functions. \n",
    "The operation that map () performs is commonly known as a mapping because it maps every item in an input iterable to a new item in a resulting iterable'''\n",
    "l=[5,6,7,8,9]\n",
    "def add_two(l):\n",
    "    return l+2\n",
    "list(map(add_two,(l)))"
   ]
  },
  {
   "cell_type": "code",
   "execution_count": 8,
   "id": "b33322d4-2a2e-473e-8093-b49562d83bd9",
   "metadata": {},
   "outputs": [
    {
     "data": {
      "text/plain": [
       "[25, 36, 49, 64, 81]"
      ]
     },
     "execution_count": 8,
     "metadata": {},
     "output_type": "execute_result"
    }
   ],
   "source": [
    "#2.square\n",
    "l=[5,6,7,8,9]\n",
    "def square(l):\n",
    "    return l**2\n",
    "list(map(square,(l)))"
   ]
  },
  {
   "cell_type": "code",
   "execution_count": 11,
   "id": "ae380c80-20cf-410a-803e-2dd8b6c73654",
   "metadata": {},
   "outputs": [
    {
     "name": "stdout",
     "output_type": "stream",
     "text": [
      "<map object at 0x7f251d7f5de0>\n",
      "[4, 88, 11.0, 12, -14]\n"
     ]
    }
   ],
   "source": [
    "'''The title of the YouTube video is \"Python - List comprehension vs map function tutorial (speed, lambda, history, examples)\". \n",
    "map may be microscopically faster in some cases (when you're not making a lambda for the purpose, but using the same function in map \n",
    "and a list comprehension ).'''\n",
    "\n",
    "#3.list comp vs map\n",
    "# function to double the number \n",
    "def num (n) : \n",
    "    return n * 2\n",
    "          \n",
    "lst = [2, 44, 5.5, 6, -7] \n",
    "  \n",
    "# suppose we want to call function \n",
    "# 'num' for each element of lst, \n",
    "# we use map \n",
    "  \n",
    "# creates a map object \n",
    "x = map(num, lst)  \n",
    "print(x)  \n",
    "  \n",
    "# returns list \n",
    "print(list(x)) \n",
    "\n",
    "\n",
    "\n"
   ]
  },
  {
   "cell_type": "code",
   "execution_count": 40,
   "id": "a775fd8c-3486-4850-9e82-127d9253d252",
   "metadata": {},
   "outputs": [
    {
     "name": "stdout",
     "output_type": "stream",
     "text": [
      "['VISHU', 'GOWY', 'LEXI']\n"
     ]
    }
   ],
   "source": [
    "#4.upper case \n",
    "out = map(lambda x:x.upper(), ['vishu', 'gowy', 'lexi'])\n",
    " \n",
    "# Converting it into list\n",
    "output = list(out)\n",
    " \n",
    "# printing output\n",
    "print(output)\n",
    "\n",
    "    \n",
    "    \n",
    "\n"
   ]
  },
  {
   "cell_type": "code",
   "execution_count": 53,
   "id": "726f2b99-437d-4b41-92e4-945e9449aec6",
   "metadata": {},
   "outputs": [],
   "source": [
    "#5.length\n",
    "def findWordLengths(input_string):\n",
    "   words = input_string.split()\n",
    "   wordLengths = list(map(len, words))\n",
    "   return wordLengths"
   ]
  },
  {
   "cell_type": "code",
   "execution_count": 55,
   "id": "1ae0ff07-90b3-4a09-98eb-8a333ac5e3be",
   "metadata": {},
   "outputs": [
    {
     "data": {
      "text/plain": [
       "[5, 5]"
      ]
     },
     "execution_count": 55,
     "metadata": {},
     "output_type": "execute_result"
    }
   ],
   "source": [
    "findWordLengths('hello world')"
   ]
  },
  {
   "cell_type": "code",
   "execution_count": 3,
   "id": "73942c63-487b-4dae-8e85-5545ca0bc5f8",
   "metadata": {},
   "outputs": [
    {
     "name": "stdout",
     "output_type": "stream",
     "text": [
      "      name  age score  age_missing_data  income\n",
      "0    James   30   90%              30.0  100000\n",
      "1     Jane   40   95%              40.0   80000\n",
      "2  Melissa   32  100%              32.0   55000\n",
      "3       Ed   67   82%              67.0   62000\n",
      "4     Neil   43   87%               NaN  120000\n"
     ]
    }
   ],
   "source": [
    "#6.\n",
    "import pandas as pd\n",
    "df = pd.DataFrame({\n",
    "    'name': ['James', 'Jane', 'Melissa', 'Ed', 'Neil'],\n",
    "    'age': [30, 40, 32, 67, 43],\n",
    "    'score': ['90%', '95%', '100%', '82%', '87%'],\n",
    "    'age_missing_data': [30, 40, 32, 67, None],\n",
    "    'income':[100000, 80000, 55000, 62000, 120000]\n",
    "})\n",
    "print(df)"
   ]
  },
  {
   "cell_type": "code",
   "execution_count": 15,
   "id": "5e7f7d97-9cb7-4a38-8727-22b70b8220fb",
   "metadata": {},
   "outputs": [
    {
     "name": "stdout",
     "output_type": "stream",
     "text": [
      "37.5 degree Celsius is equal to 99.5 degree Fahrenheit\n"
     ]
    }
   ],
   "source": [
    "#7. Python Program to convert temperature in celsius to fahrenheit\n",
    "\n",
    "# change this value for a different result\n",
    "celsius = 37.5\n",
    "\n",
    "# calculate fahrenheit\n",
    "fahrenheit = (celsius * 1.8) + 32\n",
    "print('%0.1f degree Celsius is equal to %0.1f degree Fahrenheit' %(celsius,fahrenheit))\n"
   ]
  },
  {
   "cell_type": "code",
   "execution_count": 21,
   "id": "d974865b-9d41-498a-9d1c-05cde3bfb4ec",
   "metadata": {},
   "outputs": [
    {
     "name": "stdout",
     "output_type": "stream",
     "text": [
      "Num1 is rounded to 3\n",
      "Num2 is rounded to  4\n"
     ]
    }
   ],
   "source": [
    "#8.round up\n",
    "# defining floating numbers\n",
    "num1 = 3.4\n",
    "num2 = 3.6\n",
    "# applying round method\n",
    "print(\"Num1 is rounded to\", round(num1))\n",
    "print(\"Num2 is rounded to \", round(num2))"
   ]
  },
  {
   "cell_type": "markdown",
   "id": "44e80011-e31a-4890-be7b-73a817523d55",
   "metadata": {},
   "source": [
    "# REDUCE"
   ]
  },
  {
   "cell_type": "code",
   "execution_count": 22,
   "id": "1570408e-5b72-470a-8736-fc10a84fd6d0",
   "metadata": {},
   "outputs": [
    {
     "name": "stdout",
     "output_type": "stream",
     "text": [
      "The sum of the list elements is : 17\n",
      "The maximum element of the list is : 6\n"
     ]
    }
   ],
   "source": [
    "'''reduce () (or functools.reduce () in Python 3) is one of the functional programming primitives (or building blocks) available in Python. \n",
    "It’s useful in a number of contexts. Later in this section, you’ll see how the reduce () function lets you group your data set into \n",
    "arbitrary categories.'''\n",
    "  \n",
    "# 1.importing functools for reduce() \n",
    "import functools \n",
    "  \n",
    "# initializing list \n",
    "lis = [1, 3, 5, 6, 2] \n",
    "  \n",
    "# using reduce to compute sum of list \n",
    "print(\"The sum of the list elements is : \", end=\"\") \n",
    "print(functools.reduce(lambda a, b: a+b, lis)) \n",
    "  \n",
    "# using reduce to compute maximum element from list \n",
    "print(\"The maximum element of the list is : \", end=\"\") \n",
    "print(functools.reduce(lambda a, b: a if a > b else b, lis)) \n"
   ]
  },
  {
   "cell_type": "code",
   "execution_count": 23,
   "id": "4007f323-a9fb-40bd-8dd4-026d00a5c34f",
   "metadata": {},
   "outputs": [
    {
     "name": "stdout",
     "output_type": "stream",
     "text": [
      "120\n"
     ]
    }
   ],
   "source": [
    "#2.product\n",
    "from functools import reduce\n",
    "\n",
    "lst = [1, 2, 3, 4, 5]\n",
    "product = reduce((lambda x, y: x * y), lst)\n",
    "print(product)"
   ]
  },
  {
   "cell_type": "code",
   "execution_count": 30,
   "id": "7f2c8371-2b04-4689-8309-69bde5dc9682",
   "metadata": {},
   "outputs": [
    {
     "name": "stdout",
     "output_type": "stream",
     "text": [
      "99\n"
     ]
    }
   ],
   "source": [
    "#3.max\n",
    "from functools import reduce\n",
    "\n",
    "list1 = [-1, 3, 7, 99, 0]\n",
    "\n",
    "print(reduce(max, list1))\n"
   ]
  },
  {
   "cell_type": "code",
   "execution_count": 17,
   "id": "85a21d80-792a-4609-807f-4c80595bf7ca",
   "metadata": {},
   "outputs": [
    {
     "name": "stdout",
     "output_type": "stream",
     "text": [
      "Hellomynameislexi\n"
     ]
    }
   ],
   "source": [
    "#4.concatination\n",
    "import functools\n",
    "li = ['Hello','my','name','is','lexi']\n",
    "print(functools.reduce(lambda x,y:x+y,li))"
   ]
  },
  {
   "cell_type": "code",
   "execution_count": 14,
   "id": "a7e0fea0-51e5-4825-9349-0be8d1627294",
   "metadata": {},
   "outputs": [],
   "source": [
    "#5.factorial\n",
    "import functools\n",
    "\n",
    "def factorial(n):\n",
    "    if n == 0:\n",
    "        return 1\n",
    "    else:\n",
    "        return functools.reduce(lambda x,y: x*y, range(1,n+1))\n",
    "\n"
   ]
  },
  {
   "cell_type": "code",
   "execution_count": 15,
   "id": "5e151381-13d2-4ade-a596-5c0e7fa1e5fd",
   "metadata": {},
   "outputs": [
    {
     "data": {
      "text/plain": [
       "24"
      ]
     },
     "execution_count": 15,
     "metadata": {},
     "output_type": "execute_result"
    }
   ],
   "source": [
    "factorial(4)"
   ]
  },
  {
   "cell_type": "code",
   "execution_count": 19,
   "id": "8a0cdc72-9af3-46ea-95e4-cfb68f989332",
   "metadata": {},
   "outputs": [
    {
     "name": "stdout",
     "output_type": "stream",
     "text": [
      "x = 8 , y = 5\n"
     ]
    }
   ],
   "source": [
    "#6.GCD\n",
    "\n",
    "from math import gcd \n",
    " \n",
    "# Function to reduce a fraction \n",
    "# to its lowest form\n",
    "def reduceFraction(x, y) :\n",
    "     \n",
    "    d = gcd(x, y);\n",
    " \n",
    "    x = x // d;\n",
    "    y = y // d;\n",
    " \n",
    "    print(\"x =\", x, \", y =\", y);\n",
    " \n",
    "# Driver Code\n",
    "if __name__ == \"__main__\" :\n",
    " \n",
    "    x = 16;\n",
    "    y = 10;\n",
    " \n",
    "    reduceFraction(x, y);\n",
    " "
   ]
  },
  {
   "cell_type": "code",
   "execution_count": 20,
   "id": "3e0e26f2-71e4-4069-97da-ee13e6f2049a",
   "metadata": {},
   "outputs": [
    {
     "name": "stdout",
     "output_type": "stream",
     "text": [
      "The sum of the list elements is : 17\n"
     ]
    }
   ],
   "source": [
    "#7.sum\n",
    "import functools \n",
    "  \n",
    "# importing operator for operator functions \n",
    "import operator \n",
    "  \n",
    "# initializing list \n",
    "lis = [1, 3, 5, 6, 2] \n",
    "  \n",
    "# using reduce to compute sum of list \n",
    "# using operator functions \n",
    "print(\"The sum of the list elements is : \", end=\"\") \n",
    "print(functools.reduce(operator.add, lis)) "
   ]
  },
  {
   "cell_type": "markdown",
   "id": "8948504e-811d-4b77-a831-b4d79b4b43a9",
   "metadata": {},
   "source": [
    "# FILTER"
   ]
  },
  {
   "cell_type": "code",
   "execution_count": 27,
   "id": "a1e02ff5-2b5e-4d28-8a47-57aebd0080ca",
   "metadata": {},
   "outputs": [
    {
     "data": {
      "text/plain": [
       "False"
      ]
     },
     "execution_count": 27,
     "metadata": {},
     "output_type": "execute_result"
    }
   ],
   "source": [
    "'''The filter() method filters the given sequence with the help of a function that tests each element in the sequence to be true or not. '''\n",
    "#1.EXAMPLE\n",
    "# function that filters vowels\n",
    "def fun(variable):\n",
    "    letters = ['a', 'e', 'i', 'o', 'u']\n",
    "    if (variable in letters):\n",
    "        return True\n",
    "    else:\n",
    "        return False\n",
    "    \n",
    "fun('pldf')"
   ]
  },
  {
   "cell_type": "code",
   "execution_count": 28,
   "id": "c895e35f-9999-4b3f-ab17-1e754aae7c86",
   "metadata": {},
   "outputs": [
    {
     "name": "stdout",
     "output_type": "stream",
     "text": [
      "[2, 4]\n"
     ]
    }
   ],
   "source": [
    "#2.even\n",
    "\n",
    "\n",
    "# Python code to filter even values from a list\n",
    " \n",
    "# Initialisation of list\n",
    "lis = [1, 2, 3, 4, 5]\n",
    " \n",
    "# Output list initialisation\n",
    "out = []\n",
    " \n",
    "for num in lis:\n",
    " \n",
    "    # checking condition\n",
    "    if num % 2 == 0:\n",
    "        out.append(num)\n",
    " \n",
    " \n",
    "# printing output\n",
    "print(out)"
   ]
  },
  {
   "cell_type": "code",
   "execution_count": 42,
   "id": "1d3c53d6-cc77-44b7-a82b-7fca330f6016",
   "metadata": {},
   "outputs": [
    {
     "name": "stdout",
     "output_type": "stream",
     "text": [
      "['s']\n"
     ]
    }
   ],
   "source": [
    "#3.\n",
    "def check_letter(input_list):\n",
    "    if input_list[0].lower() == 's':\n",
    "        return True\n",
    "    else:\n",
    "        return False\n",
    "\n",
    "filtered_list = filter(check_letter, sequence)\n",
    "print(list(filtered_list))"
   ]
  },
  {
   "cell_type": "code",
   "execution_count": 57,
   "id": "e74b3a76-f0e3-458a-97ed-481cbf7e672f",
   "metadata": {},
   "outputs": [
    {
     "name": "stdout",
     "output_type": "stream",
     "text": [
      "2\n",
      "<filter object at 0x7f83180deda0>\n",
      "2\n",
      "3\n",
      "4\n",
      "5\n",
      "6\n",
      "7\n",
      "<filter object at 0x7f83180dece0>\n"
     ]
    }
   ],
   "source": [
    "#4.\n",
    "def prime (mylist):\n",
    "    for i in range(2, 8):\n",
    "        print (i) # added to make things explicit; it's not necessary\n",
    "        return filter(lambda x: x == i or x % i, mylist)\n",
    "\n",
    "def prime2 (mylist):\n",
    "    nums = mylist\n",
    "    for i in range(2, 8):\n",
    "        print (i) # added to make things explicit; it's not necessary\n",
    "        nums = filter(lambda x: x == i or x % i, nums)\n",
    "    return nums\n",
    "\n",
    "print (prime([2,3,4,5,6,7,8,9,10,11,12,13,14,15]))\n",
    "\n",
    "print (prime2([2,3,4,5,6,7,8,9,10,11,12,13,14,15]))"
   ]
  },
  {
   "cell_type": "code",
   "execution_count": 59,
   "id": "a7169483-9d8c-4bca-8bd1-b5630703beea",
   "metadata": {},
   "outputs": [
    {
     "name": "stdout",
     "output_type": "stream",
     "text": [
      "The original list is : [1, None, 4, None, None, 5, 8, None, False]\n",
      "List after removal of None values : [1, 4, 5, 8, False]\n"
     ]
    }
   ],
   "source": [
    "#5.none value\n",
    "# initializing list\n",
    "test_list = [1, None, 4, None, None, 5, 8, None, False]\n",
    " \n",
    "# printing original list\n",
    "print (\"The original list is : \" + str(test_list))\n",
    " \n",
    "# using filter()\n",
    "# to remove None values in list\n",
    "res = list(filter(lambda item: item is not None, test_list))\n",
    " \n",
    "# printing result\n",
    "print (\"List after removal of None values : \" + str(res))\n"
   ]
  },
  {
   "cell_type": "code",
   "execution_count": null,
   "id": "409ad957-4d2d-4672-88fd-96b07702d5f2",
   "metadata": {},
   "outputs": [],
   "source": [
    "#6.\n",
    "l = ['new vaccine tech long term testing',\n",
    "     'concerned past negative effects vaccines flu shot b',\n",
    "     'standard initial screening tb never tb chest x ray']\n",
    "res = [\" \".join(filter(lambda x: len(x) > 2, eaach.split(' '))) for eaach in l]\n",
    "print(res)"
   ]
  },
  {
   "cell_type": "code",
   "execution_count": 1,
   "id": "4a29c6f9-8766-40dd-81ad-9c4e5e2d05ab",
   "metadata": {},
   "outputs": [
    {
     "name": "stdout",
     "output_type": "stream",
     "text": [
      "[1, 'a', True, '0']\n"
     ]
    }
   ],
   "source": [
    "#7.\n",
    "# random list\n",
    "random_list = [1, 'a', 0, False, True, '0']\n",
    "\n",
    "filtered_iterator = filter(None, random_list)\n",
    "\n",
    "#converting to list\n",
    "filtered_list = list(filtered_iterator)\n",
    "\n",
    "print(filtered_list)\n"
   ]
  },
  {
   "cell_type": "markdown",
   "id": "2716dc85-dfc8-47f7-9a96-606f35608f95",
   "metadata": {},
   "source": [
    "# RECURSION"
   ]
  },
  {
   "cell_type": "code",
   "execution_count": 2,
   "id": "ccb987fb-0587-43ec-ab98-116bb87dcaa8",
   "metadata": {},
   "outputs": [
    {
     "data": {
      "text/plain": [
       "'Recursion has a large amount of Overhead as compared to Iteration. \\nRecursion: Recursion has the overhead of repeated function calls, that is due to the repetitive calling of the same function, \\nthe time complexity of the code increases manyfold. \\nIteration: Iteration does not involve any such overhead. 4. Infinite Repetition'"
      ]
     },
     "execution_count": 2,
     "metadata": {},
     "output_type": "execute_result"
    }
   ],
   "source": [
    "#1.\n",
    "'''Recursion has a large amount of Overhead as compared to Iteration. \n",
    "Recursion: Recursion has the overhead of repeated function calls, that is due to the repetitive calling of the same function, \n",
    "the time complexity of the code increases manyfold. \n",
    "Iteration: Iteration does not involve any such overhead. 4. Infinite Repetition'''\n",
    "\n"
   ]
  },
  {
   "cell_type": "code",
   "execution_count": 6,
   "id": "3f4224aa-41aa-4af0-8701-93618ff41dab",
   "metadata": {},
   "outputs": [
    {
     "data": {
      "text/plain": [
       "24"
      ]
     },
     "execution_count": 6,
     "metadata": {},
     "output_type": "execute_result"
    }
   ],
   "source": [
    "#2.factorial\n",
    "# Factorial of a number using recursion\n",
    "\n",
    "def recur_factorial(n):\n",
    "   if n == 1:\n",
    "       return n\n",
    "   else:\n",
    "       return n*recur_factorial(n-1)\n",
    "    \n",
    "    \n",
    "recur_factorial(4)"
   ]
  },
  {
   "cell_type": "code",
   "execution_count": 8,
   "id": "16d5af03-d856-4bd2-917f-56a68c9126c0",
   "metadata": {},
   "outputs": [
    {
     "data": {
      "text/plain": [
       "55"
      ]
     },
     "execution_count": 8,
     "metadata": {},
     "output_type": "execute_result"
    }
   ],
   "source": [
    "#3.\n",
    "# Python program to display the Fibonacci sequence\n",
    "\n",
    "def recur_fibo(n):\n",
    "   if n <= 1:\n",
    "       return n\n",
    "   else:\n",
    "       return(recur_fibo(n-1) + recur_fibo(n-2))\n",
    "recur_fibo(10)"
   ]
  },
  {
   "cell_type": "code",
   "execution_count": 9,
   "id": "04c5dc00-99be-4c8d-9b82-281afeb2f775",
   "metadata": {},
   "outputs": [
    {
     "name": "stdout",
     "output_type": "stream",
     "text": [
      "Sum:  14\n"
     ]
    }
   ],
   "source": [
    "#4.sum\n",
    "def listsum(numList):\n",
    "    if len(numList) == 1:\n",
    "        return numList[0]\n",
    "    else:\n",
    "        return numList[0] + listsum(numList[1:])\n",
    "\n",
    "a=[3,1,4,0,4,2]\n",
    "\n",
    "print(\"Sum: \",listsum(a))"
   ]
  },
  {
   "cell_type": "code",
   "execution_count": 10,
   "id": "013cfaa3-b887-4cd3-8524-363d6f8d2649",
   "metadata": {},
   "outputs": [
    {
     "data": {
      "text/plain": [
       "\"'A general method for avoiding a stack overflow is to include what’s called a “bootstrap condition” within the recursion. \\nIt’s some condition that gets hit every time the function calls itself. \\nYou set the condition to something that causes the function to return when some state is reached, thereby unwinding the stack.\""
      ]
     },
     "execution_count": 10,
     "metadata": {},
     "output_type": "execute_result"
    }
   ],
   "source": [
    "#5.How does recursion prevent stack overflow?\n",
    "''''A general method for avoiding a stack overflow is to include what’s called a “bootstrap condition” within the recursion. \n",
    "It’s some condition that gets hit every time the function calls itself. \n",
    "You set the condition to something that causes the function to return when some state is reached, thereby unwinding the stack.'''"
   ]
  },
  {
   "cell_type": "code",
   "execution_count": 14,
   "id": "38ecda92-5a79-417d-a6c7-66a77681c30c",
   "metadata": {},
   "outputs": [
    {
     "name": "stdin",
     "output_type": "stream",
     "text": [
      "Enter No.1 45\n",
      "Enter No.2 67\n"
     ]
    },
    {
     "name": "stdout",
     "output_type": "stream",
     "text": [
      "1\n"
     ]
    }
   ],
   "source": [
    "#6.GCD\n",
    "a = int(input(\"Enter No.1\"))\n",
    "\n",
    "b = int(input(\"Enter No.2\"))\n",
    "\n",
    "r = a%b\n",
    "\n",
    "q = int(a/b)\n",
    "\n",
    "while(r!=0):\n",
    "\n",
    "    a = b\n",
    "\n",
    "    b = r\n",
    "\n",
    "    q = int(a/b)\n",
    "\n",
    "    r = a - (b * q)\n",
    "\n",
    "\n",
    "print(b)"
   ]
  },
  {
   "cell_type": "code",
   "execution_count": 16,
   "id": "c36a2f80-f6e0-4751-927d-34ad0f096821",
   "metadata": {},
   "outputs": [
    {
     "data": {
      "text/plain": [
       "'niw'"
      ]
     },
     "execution_count": 16,
     "metadata": {},
     "output_type": "execute_result"
    }
   ],
   "source": [
    "#7.reverse\n",
    "def rreverse(s):\n",
    "    if s == \"\":\n",
    "        return s\n",
    "    else:\n",
    "        return rreverse(s[1:]) + s[0]\n",
    "    \n",
    "    \n",
    "rreverse('win')"
   ]
  },
  {
   "cell_type": "code",
   "execution_count": 17,
   "id": "c471544b-3e94-4282-8de0-86de4071ab96",
   "metadata": {},
   "outputs": [
    {
     "name": "stdin",
     "output_type": "stream",
     "text": [
      "Enter base:  2\n",
      "Enter exponential value:  8\n"
     ]
    },
    {
     "name": "stdout",
     "output_type": "stream",
     "text": [
      "Result: 256\n"
     ]
    }
   ],
   "source": [
    "#8.power\n",
    "def power(base,exp):\n",
    "    if(exp==1):\n",
    "        return(base)\n",
    "    if(exp!=1):\n",
    "        return(base*power(base,exp-1))\n",
    "base=int(input(\"Enter base: \"))\n",
    "exp=int(input(\"Enter exponential value: \"))\n",
    "print(\"Result:\",power(base,exp))"
   ]
  },
  {
   "cell_type": "code",
   "execution_count": 24,
   "id": "4244196d-a49b-4836-a226-5fdf0f39c5f1",
   "metadata": {},
   "outputs": [
    {
     "name": "stdout",
     "output_type": "stream",
     "text": [
      "['abc', 'acb', 'bac', 'bca', 'cab', 'cba']\n"
     ]
    }
   ],
   "source": [
    "#9.\n",
    "def find_permutations(s):\n",
    "    if len(s) == 1:\n",
    "        return [s]\n",
    "    else:\n",
    "        perms = []\n",
    "        for i, c in enumerate(s):\n",
    "            for perm in find_permutations(s[:i] + s[i+1:]):\n",
    "                perms.append(c + perm)\n",
    "        return perms\n",
    " \n",
    "s = 'abc'\n",
    "print(find_permutations(s))"
   ]
  },
  {
   "cell_type": "code",
   "execution_count": 26,
   "id": "8dcc5f9e-b4c0-40c0-b011-4d2779589570",
   "metadata": {},
   "outputs": [
    {
     "data": {
      "text/plain": [
       "True"
      ]
     },
     "execution_count": 26,
     "metadata": {},
     "output_type": "execute_result"
    }
   ],
   "source": [
    "#10.palindrome\n",
    "def ispalindrome(word):\n",
    "    if len(word) < 2: return True\n",
    "    if word[0] != word[-1]: return False\n",
    "    return ispalindrome(word[1:-1])\n",
    "\n",
    "ispalindrome('malayalam')"
   ]
  },
  {
   "cell_type": "code",
   "execution_count": 29,
   "id": "3abf1ec1-ebcf-4308-ae69-1b947af3a1a2",
   "metadata": {},
   "outputs": [
    {
     "name": "stdout",
     "output_type": "stream",
     "text": [
      "[[], [1], [2], [1, 2], [3], [1, 3], [2, 3], [1, 2, 3]]\n"
     ]
    }
   ],
   "source": [
    "#11.\n",
    "def combinations(l):\n",
    "    if l:\n",
    "      result = combinations(l[:-1])\n",
    "      return result + [c + [l[-1]] for c in result]\n",
    "    else:\n",
    "      return [[]]\n",
    "\n",
    "print(combinations([1,2,3]))"
   ]
  },
  {
   "cell_type": "markdown",
   "id": "1c22af7a-3a38-4b05-a817-762caa062fb7",
   "metadata": {},
   "source": [
    "# BASIC OF FUNCTIONS\n"
   ]
  },
  {
   "cell_type": "code",
   "execution_count": null,
   "id": "168fe82c-b20a-4cf7-a3eb-fac6e1803d27",
   "metadata": {},
   "outputs": [],
   "source": [
    "#1What is a function in Python, and why is it used?\n",
    "\n",
    "'''Python Functions is a block of statements that return the specific task.\n",
    "The idea is to put some commonly or repeatedly done tasks together and make a function so that instead of writing the same code \n",
    "again and again for different inputs, we can do the function calls to reuse code contained in it over and over again.\n",
    "Some Benefits of Using Functions\n",
    "Increase Code Readability \n",
    "Increase Code Reusability.'''"
   ]
  },
  {
   "cell_type": "code",
   "execution_count": null,
   "id": "0b854b56-cb10-41e1-8420-5fafdeef8603",
   "metadata": {},
   "outputs": [],
   "source": [
    "#2.How do you define a function in Python? Provide an example.\n",
    "\"\"\"The syntax for defining a function in Python is as follows:\n",
    "\n",
    "def function_name(arguments):\n",
    "    block of code\n",
    "And here is a description of the syntax:\n",
    "\n",
    "We start with the def keyword to inform Python that a new function is being defined.\n",
    "Then, we give our function a meaningful name.\n",
    "Next, in parentheses, we list the arguments or parameters that the function needs to perform a task. You can include as many parameters as you want.\n",
    "If you define a function without parameters, you can also leave the parentheses empty.\n",
    "The colon symbol “:” denotes the end of the function’s header and a transition to the function’s body.\n",
    "After the indentation, we write the code block needed to perform the task at hand.\n",
    "When done with the code block, we leave an empty line to mark the end of the function definition.\"\"\"\n",
    "\n",
    "\n",
    "\n",
    "def introduction(name):\n",
    "    \"\"\"Introduces a person given their name\"\"\"\n",
    "    print('Hello! My name is', name)"
   ]
  },
  {
   "cell_type": "code",
   "execution_count": null,
   "id": "f0536cbb-2184-41fc-8b61-ae5b349d8edd",
   "metadata": {},
   "outputs": [],
   "source": [
    "#3.\n",
    "'''A function is a block of code that does a particular operation and returns a result. \n",
    "It usually accepts inputs as parameters and returns a result. The parameters are not mandatory. \n",
    "A function call is the code used to pass control to a function. Now b will have the value 11. Hope this clarifies.'''\n",
    "\n"
   ]
  },
  {
   "cell_type": "code",
   "execution_count": 12,
   "id": "6989acbf-3b85-4d5d-9d65-17528180fda7",
   "metadata": {},
   "outputs": [],
   "source": [
    "#4.def sum_double(a, b):\n",
    "    sum = a+b\n",
    "    if a == b:\n",
    "            sum = sum*2\n",
    "            \n",
    "            return sum\n",
    "    else :\n",
    "        \n",
    "            return  sum"
   ]
  },
  {
   "cell_type": "code",
   "execution_count": 13,
   "id": "74105f58-cb1f-4dae-9ae1-68e5489a99e5",
   "metadata": {},
   "outputs": [
    {
     "data": {
      "text/plain": [
       "6"
      ]
     },
     "execution_count": 13,
     "metadata": {},
     "output_type": "execute_result"
    }
   ],
   "source": [
    "sum_double(2,4)"
   ]
  },
  {
   "cell_type": "code",
   "execution_count": null,
   "id": "806329e1-cc26-4eb9-a5d3-134d0c2f2bcf",
   "metadata": {},
   "outputs": [],
   "source": [
    "#5.\n",
    "'''A function signature is its declaration, parameters, and return type. \n",
    "When you call it is an instance of that function. By clicking “Post Your Answer”,\n",
    "you agree to our terms of service and acknowledge that you have read and understand our privacy policy and code of conduct.'''"
   ]
  },
  {
   "cell_type": "code",
   "execution_count": 15,
   "id": "bfb82257-6a0b-4b03-b38e-092d27806e01",
   "metadata": {},
   "outputs": [
    {
     "name": "stdout",
     "output_type": "stream",
     "text": [
      "6\n"
     ]
    }
   ],
   "source": [
    "#6.\n",
    "def Multiply(answer):\n",
    "    num1,num2 = int(2),int(3) \n",
    "    answer = num1 * num2\n",
    "    return answer\n",
    "\n",
    "print(Multiply('answer'))"
   ]
  },
  {
   "cell_type": "markdown",
   "id": "55c0650b-0447-44dc-9906-5108dfc7e402",
   "metadata": {},
   "source": [
    "# FUNCTION PARAMETERS AND ARGUMENTS\n"
   ]
  },
  {
   "cell_type": "code",
   "execution_count": null,
   "id": "379de14f-398d-40cf-be6e-0421d9712e65",
   "metadata": {},
   "outputs": [],
   "source": [
    "#1.\n",
    "'''Formal Parameters are the parameters which are specified during the definition of the function.\n",
    "Actual Parameters are the parameters which are specified during the function call. Actual Parameters are actually of four types :\n",
    "\n",
    "Positional Parameters\n",
    "Keyword Parameters\n",
    "Default Parameters\n",
    "Variable length Parameters'''"
   ]
  },
  {
   "cell_type": "code",
   "execution_count": 1,
   "id": "dbc877e7-6e7c-4bca-b508-b1d43769d74e",
   "metadata": {},
   "outputs": [],
   "source": [
    "#2.\n",
    "def student(firstname, lastname ='Mark', standard ='Fifth'):\n",
    " \n",
    "     print(firstname, lastname, 'studies in', standard, 'Standard')"
   ]
  },
  {
   "cell_type": "code",
   "execution_count": 2,
   "id": "e60a5f21-9ffe-4bde-b106-96cc65c9c052",
   "metadata": {},
   "outputs": [
    {
     "name": "stdout",
     "output_type": "stream",
     "text": [
      "lexi 78 studies in 5 Standard\n"
     ]
    }
   ],
   "source": [
    "student('lexi',78,5)"
   ]
  },
  {
   "cell_type": "code",
   "execution_count": 6,
   "id": "68927b55-7c32-4023-aa68-09aa7d4dfca0",
   "metadata": {},
   "outputs": [
    {
     "name": "stdout",
     "output_type": "stream",
     "text": [
      "Name:  miki\n",
      "Age  50\n"
     ]
    }
   ],
   "source": [
    "#3.\n",
    "'''Keyword-Only Arguments\n",
    "Keyword-only arguments mean whenever we pass the arguments(or value) by their parameter names at the time of calling the\n",
    "function in Python in which if you change the position of arguments then there will be no change in the output.\n",
    "\n",
    "Benefits of using Keyword arguments over positional arguments\n",
    "\n",
    "On using keyword arguments you will get the correct output because the order of argument doesn’t matter provided the logic of your code is correct. \n",
    "But in the case of positional arguments, you will get more than one output on changing the order of the arguments.'''\n",
    "#!/usr/bin/python\n",
    "# Function definition is here\n",
    "def printinfo( name, age ):\n",
    "    print (\"Name: \", name)\n",
    "    print (\"Age \", age)\n",
    "    return;\n",
    "# Now you can call printinfo function\n",
    "printinfo( age=50, name=\"miki\" )\n",
    "\n"
   ]
  },
  {
   "cell_type": "code",
   "execution_count": 11,
   "id": "08ee7111-3dd7-43f2-b1bc-f5ab314a0cf0",
   "metadata": {},
   "outputs": [],
   "source": [
    "#4.\n",
    "def simple_tuple_func(*args):\n",
    "    cumulative_sums = []\n",
    "    for i in args:\n",
    "        cumulative_sums.append((cumulative_sums[-1] if cumulative_sums else 0) + i)\n",
    "    return tuple(cumulative_sums)"
   ]
  },
  {
   "cell_type": "code",
   "execution_count": 14,
   "id": "624ac4f4-cfc4-4cbf-a9a3-b714e881eefb",
   "metadata": {},
   "outputs": [
    {
     "data": {
      "text/plain": [
       "(2, 5)"
      ]
     },
     "execution_count": 14,
     "metadata": {},
     "output_type": "execute_result"
    }
   ],
   "source": [
    "simple_tuple_func(2,3)"
   ]
  },
  {
   "cell_type": "code",
   "execution_count": null,
   "id": "fe9a1ef3-ec07-4448-abc4-aef3344d4025",
   "metadata": {},
   "outputs": [],
   "source": [
    "#5\n",
    "'''In this article, we will cover what ** (double star/asterisk) and * (star/asterisk) do for parameters in Python,\n",
    "Here, we will also cover args and kwargs examples in Python. \n",
    "We can pass a variable number of arguments to a function using special symbols.''' "
   ]
  },
  {
   "cell_type": "markdown",
   "id": "4f947e3f-902f-416e-9559-6a52bf6eed27",
   "metadata": {},
   "source": [
    "# Return Values and Scoping:\n"
   ]
  },
  {
   "cell_type": "code",
   "execution_count": null,
   "id": "bd8ff2e0-f733-4da7-b072-a52c37e0dba2",
   "metadata": {},
   "outputs": [],
   "source": [
    "#1.\n",
    "'''A return statement is used to end the execution of the function call \n",
    "and “returns” the result (value of the expression following the return keyword) to the caller. \n",
    "The statements after the return statements are not executed. If the return statement is without any expression, \n",
    "then the special value None is returned.\n",
    "A return statement is overall used to invoke a function so that the passed statements can be executed.'''\n",
    "\n",
    "\n"
   ]
  },
  {
   "cell_type": "code",
   "execution_count": null,
   "id": "b1372452-4624-4959-beb5-df5e6e6ed65a",
   "metadata": {},
   "outputs": [],
   "source": [
    "#2.\n",
    "'''Python Local Variables\n",
    "Local variables in Python are those which are initialized inside a function and belong only to that particular function. \n",
    "It cannot be accessed anywhere outside the function. Let’s see how to create a local variable.\n",
    "\n",
    "Python Global Variables\n",
    "These are those which are defined outside any function and which are accessible throughout the program, \n",
    "i.e., inside and outside of every function. Let’s see how to create a Python global variable.'''"
   ]
  },
  {
   "cell_type": "code",
   "execution_count": 16,
   "id": "3b5b132e-fc08-483d-a0a7-eb59900142df",
   "metadata": {},
   "outputs": [
    {
     "name": "stdout",
     "output_type": "stream",
     "text": [
      "_my_global\n"
     ]
    }
   ],
   "source": [
    "#3.\n",
    "# sample.py\n",
    "_my_global = 5\n",
    "\n",
    "def func1():\n",
    "    _my_global = 42\n",
    "\n",
    "def func2():\n",
    "    print ('_my_global')\n",
    "\n",
    "func1()\n",
    "func2()"
   ]
  },
  {
   "cell_type": "code",
   "execution_count": 17,
   "id": "4f23e11f-8898-4f96-8647-18d0d427e9b8",
   "metadata": {},
   "outputs": [
    {
     "name": "stdout",
     "output_type": "stream",
     "text": [
      "Factorial of 5 is 120\n"
     ]
    }
   ],
   "source": [
    "#4.\n",
    "# Python 3 program to find \n",
    "# factorial of given number\n",
    "def factorial(n):\n",
    "     \n",
    "    # single line to find factorial\n",
    "    return 1 if (n==1 or n==0) else n * factorial(n - 1) \n",
    " \n",
    "# Driver Code\n",
    "num = 5\n",
    "print(\"Factorial of\",num,\"is\",factorial(num))"
   ]
  },
  {
   "cell_type": "code",
   "execution_count": 18,
   "id": "c91355ea-701b-434e-9eb8-deebfc033cdd",
   "metadata": {},
   "outputs": [
    {
     "name": "stdout",
     "output_type": "stream",
     "text": [
      "5\n"
     ]
    }
   ],
   "source": [
    "#5.\n",
    "bye = ''\n",
    "def hi():\n",
    "    global bye\n",
    "    bye = 5\n",
    "    sigh = 10\n",
    "\n",
    "hi()\n",
    "print(bye)"
   ]
  },
  {
   "cell_type": "markdown",
   "id": "7d5e10cd-17d7-4fc2-b551-4d8062bccd83",
   "metadata": {},
   "source": [
    "# Lambda Functions and Higher-Order Functions:"
   ]
  },
  {
   "cell_type": "code",
   "execution_count": null,
   "id": "d2611a30-7516-4a80-a244-85c6370d12ea",
   "metadata": {},
   "outputs": [],
   "source": [
    "#1.\n",
    "\n",
    "'''Lambda Function, also referred to as ‘Anonymous function’ is same as a regular python function but can be defined without a name.\n",
    "While normal functions are defined using the def keyword, anonymous functions are defined using the lambda keyword.\n",
    "However,they are restricted to single line of expression. \n",
    "They can take in mutliple parameters as in regular functions.'''"
   ]
  },
  {
   "cell_type": "code",
   "execution_count": 19,
   "id": "645476fb-17bf-4dfb-bf37-923b0896f923",
   "metadata": {},
   "outputs": [
    {
     "data": {
      "text/plain": [
       "[(3, 2), (1, 4), (1, 2)]"
      ]
     },
     "execution_count": 19,
     "metadata": {},
     "output_type": "execute_result"
    }
   ],
   "source": [
    "#2.\n",
    ">>> array = [(1, 2), (3, 2), (1, 4)]\n",
    ">>> point = [8, 7]\n",
    ">>> array.sort(key = lambda k: (k[0] - point[0])**2 + (k[1] - point[1])**2)\n",
    ">>> array"
   ]
  },
  {
   "cell_type": "code",
   "execution_count": 21,
   "id": "c7743ec8-7e0a-49f2-aaef-fb7e48a87646",
   "metadata": {},
   "outputs": [
    {
     "name": "stdout",
     "output_type": "stream",
     "text": [
      "HELLO\n",
      "HELLO\n"
     ]
    }
   ],
   "source": [
    "#3.\n",
    "'''A function is called Higher Order Function if it contains other functions as a parameter or returns a function as an output \n",
    "i.e, the functions that operate with another function are known as Higher order Functions. \n",
    "It is worth knowing that this higher order function is applicable for functions and methods as well that takes functions as \n",
    "a parameter or returns a function as a result. Python too supports the concepts of higher order functions.\n",
    "\n",
    "Properties of higher-order functions:\n",
    "\n",
    "A function is an instance of the Object type.\n",
    "You can store the function in a variable.\n",
    "You can pass the function as a parameter to another function.\n",
    "You can return the function from a function.\n",
    "You can store them in data structures such as hash tables, lists,''' \n",
    "\n",
    "\n",
    "# Python program to illustrate functions  \n",
    "# can be treated as objects  \n",
    "def shout(text):  \n",
    "    return text.upper()  \n",
    "    \n",
    "print(shout('Hello'))  \n",
    "    \n",
    "# Assigning function to a variable \n",
    "yell = shout  \n",
    "    \n",
    "print(yell('Hello'))"
   ]
  },
  {
   "cell_type": "code",
   "execution_count": 25,
   "id": "c6a0f616-b5fe-4066-9bda-64121824287c",
   "metadata": {},
   "outputs": [
    {
     "name": "stdout",
     "output_type": "stream",
     "text": [
      "[2, 4, 6]\n"
     ]
    }
   ],
   "source": [
    "\n",
    "#4.\n",
    "def double(integer):\n",
    "    return integer*2\n",
    " \n",
    " \n",
    "# driver code\n",
    "integer_list = [1, 2, 3]\n",
    " \n",
    "# Map method returns a map object\n",
    "# so we cast it into list using list()\n",
    "output_list = list(map(double, integer_list))\n",
    " \n",
    "print(output_list)"
   ]
  },
  {
   "cell_type": "markdown",
   "id": "727a536a-57df-4729-af48-67b75459504e",
   "metadata": {},
   "source": [
    "# Built-in Functions:\n"
   ]
  },
  {
   "cell_type": "code",
   "execution_count": null,
   "id": "04a0e687-2385-40a2-9881-b37fb6545dde",
   "metadata": {},
   "outputs": [],
   "source": [
    "#1.\n",
    "'''I. len() – The function is used to find the number of elements in a sequence. We will see here, how it works for a list and string.\n",
    "II. min() – through min() function, we can identify the lowest value in a sequence. \n",
    "Again, we would perform following operations to understand how it’s different for integers and strings.\n",
    "III. max() – max() function is used to identify the maximum value in sequence. We will continue with the example we have used for min() function.'''\n"
   ]
  },
  {
   "cell_type": "code",
   "execution_count": 27,
   "id": "8dfb197e-317b-485c-b7b6-921910aa215b",
   "metadata": {},
   "outputs": [
    {
     "name": "stdout",
     "output_type": "stream",
     "text": [
      "[5, 7, 9]\n"
     ]
    }
   ],
   "source": [
    "\n",
    "#2.\n",
    "# Add two lists using map and lambda \n",
    "  \n",
    "numbers1 = [1, 2, 3] \n",
    "numbers2 = [4, 5, 6] \n",
    "  \n",
    "result = map(lambda x, y: x + y, numbers1, numbers2) \n",
    "print(list(result)) "
   ]
  },
  {
   "cell_type": "code",
   "execution_count": null,
   "id": "93eeb9cf-47b6-4663-8a6c-9f19f8db4d01",
   "metadata": {},
   "outputs": [],
   "source": [
    "#3.\n",
    "'''function: function that tests if each element of a sequence is true or not.\n",
    "sequence: sequence which needs to be filtered, it can be sets, lists, tuples, or containers of any iterators.\n",
    "Returns: an iterator that is already filtered.'''"
   ]
  },
  {
   "cell_type": "code",
   "execution_count": null,
   "id": "70502e81-d736-45a0-ace9-6f8309b088e4",
   "metadata": {},
   "outputs": [],
   "source": [
    "#4.\n",
    "'''The reduce(fun,seq) function is used to apply a particular function passed in its argument to all of the list\n",
    "elements mentioned in the sequence passed along.This function is defined in “functools” module.\n",
    "\n",
    "Working :  \n",
    "\n",
    "At first step, first two elements of sequence are picked and the result is obtained.\n",
    "Next step is to apply the same function to the previously attained result and the number\n",
    "just succeeding the second element and the result is again stored.\n",
    "This process continues till no more elements are left in the container.\n",
    "The final returned result is returned and printed on console.'''"
   ]
  },
  {
   "cell_type": "markdown",
   "id": "83079945-6396-48cd-8c83-6dca94dd08ca",
   "metadata": {},
   "source": [
    "# Function Documentation and Best Practices:\n"
   ]
  },
  {
   "cell_type": "code",
   "execution_count": null,
   "id": "aa6ff6f4-1dbd-424a-8f77-5af99bc94c51",
   "metadata": {},
   "outputs": [],
   "source": [
    "#1.\n",
    "'''Python documentation strings (or docstrings) provide a convenient way of associating documentation with Python modules,\n",
    "functions, classes, and methods. \n",
    "It’s specified in source code that is used, like a comment, to document a specific segment of code. \n",
    "Unlike conventional source code comments, the docstring should describe what the function does, not how.\n",
    "\n",
    "Declaring Docstrings: The docstrings are declared using ”’triple single quotes”’ or “”” triple double quotes\n",
    "“”” just below the class, method, or function declaration. All functions should have a docstring.\n",
    "Accessing Docstrings: The docstrings can be accessed using the __doc__ method of the object or using the help function. \n",
    "The below examples demonstrate how to declare and access a docstring.'''"
   ]
  },
  {
   "cell_type": "code",
   "execution_count": 36,
   "id": "5c833e4d-58ee-4494-8129-c5e2c8d7e60e",
   "metadata": {},
   "outputs": [
    {
     "data": {
      "text/plain": [
       "'For naming classes in Python, a different set of conventions applies compared to naming variables or functions. \\nIn Python, class names typically use PascalCase, also known as UpperCamelCase. \\nThis means that the name starts with an uppercase letter and has no underscores between words. \\nEach word in the name should also start with an uppercase letter.'"
      ]
     },
     "execution_count": 36,
     "metadata": {},
     "output_type": "execute_result"
    }
   ],
   "source": [
    "#2.\n",
    "'''For naming classes in Python, a different set of conventions applies compared to naming variables or functions. \n",
    "In Python, class names typically use PascalCase, also known as UpperCamelCase. \n",
    "This means that the name starts with an uppercase letter and has no underscores between words. \n",
    "Each word in the name should also start with an uppercase letter.'''\n",
    "\n",
    "\n",
    "\n"
   ]
  },
  {
   "cell_type": "markdown",
   "id": "1833a6ed-8489-4538-a4e7-507164731bdc",
   "metadata": {},
   "source": [
    "## THANK YOU"
   ]
  },
  {
   "cell_type": "code",
   "execution_count": null,
   "id": "36628fba-0aea-47ef-b746-9ccac689e01b",
   "metadata": {},
   "outputs": [],
   "source": []
  }
 ],
 "metadata": {
  "kernelspec": {
   "display_name": "Python 3 (ipykernel)",
   "language": "python",
   "name": "python3"
  },
  "language_info": {
   "codemirror_mode": {
    "name": "ipython",
    "version": 3
   },
   "file_extension": ".py",
   "mimetype": "text/x-python",
   "name": "python",
   "nbconvert_exporter": "python",
   "pygments_lexer": "ipython3",
   "version": "3.10.8"
  }
 },
 "nbformat": 4,
 "nbformat_minor": 5
}
